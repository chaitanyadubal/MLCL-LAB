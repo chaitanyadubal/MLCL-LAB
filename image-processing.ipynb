{
  "cells": [
    {
      "cell_type": "code",
      "execution_count": null,
      "metadata": {
        "id": "w4L7bQkBDSmZ"
      },
      "outputs": [],
      "source": [
        "import cv2 as cv\n",
        "import numpy as np"
      ]
    },
    {
      "cell_type": "code",
      "execution_count": null,
      "metadata": {
        "id": "jj1aq_psDSmd"
      },
      "outputs": [],
      "source": [
        "image=cv.imread(r\"C:\\Users\\chait\\Downloads\\tree.jpg\")\n",
        "# gray = cv.cvtColor(image, cv.COLOR_BGR2GRAY)"
      ]
    },
    {
      "cell_type": "code",
      "execution_count": null,
      "metadata": {
        "id": "r_CXFUBYDSmd",
        "outputId": "e35c8c32-8964-415b-ca29-bc9b54218f20"
      },
      "outputs": [
        {
          "data": {
            "text/plain": [
              "-1"
            ]
          },
          "execution_count": 3,
          "metadata": {},
          "output_type": "execute_result"
        }
      ],
      "source": [
        "cv.imshow(\"Image\",image)\n",
        "cv.waitKey(0)"
      ]
    },
    {
      "cell_type": "code",
      "execution_count": null,
      "metadata": {
        "id": "hUPsEqNnDSme",
        "outputId": "9d1d7cda-8b7d-4613-d12b-b0a7228b22f9"
      },
      "outputs": [
        {
          "data": {
            "text/plain": [
              "(480, 771, 3)"
            ]
          },
          "execution_count": 4,
          "metadata": {},
          "output_type": "execute_result"
        }
      ],
      "source": [
        "image.shape"
      ]
    },
    {
      "cell_type": "code",
      "execution_count": null,
      "metadata": {
        "id": "l0Lcs-4zDSmf"
      },
      "outputs": [],
      "source": [
        "corner=image[0:100,0:100]"
      ]
    },
    {
      "cell_type": "code",
      "execution_count": null,
      "metadata": {
        "id": "4BxkMOSCDSmg",
        "outputId": "a89d7f45-1c27-4580-abab-45753a47b267"
      },
      "outputs": [
        {
          "data": {
            "text/plain": [
              "-1"
            ]
          },
          "execution_count": 6,
          "metadata": {},
          "output_type": "execute_result"
        }
      ],
      "source": [
        "cv.imshow(\"Corner\", corner)\n",
        "cv.waitKey(0)"
      ]
    },
    {
      "cell_type": "code",
      "execution_count": null,
      "metadata": {
        "id": "kFK88a7YDSmg"
      },
      "outputs": [],
      "source": [
        "canvas = np.zeros((300, 300, 3), dtype = \"uint8\")\n",
        "#RGB(255,255,255)\n",
        "green = (0, 255, 0)\n",
        "cv.line(canvas, (0, 0), (300, 300), green,4)\n",
        "cv.imshow(\"Canvas\", canvas)\n"
      ]
    },
    {
      "cell_type": "code",
      "execution_count": null,
      "metadata": {
        "id": "1D9tMb6cDSmh",
        "outputId": "749f0245-a86e-40a5-b315-0f1417468a40"
      },
      "outputs": [
        {
          "data": {
            "text/plain": [
              "-1"
            ]
          },
          "execution_count": 8,
          "metadata": {},
          "output_type": "execute_result"
        }
      ],
      "source": [
        "red = (0, 0, 255)\n",
        "cv.line(canvas, (300, 0), (0, 300), red, 3)\n",
        "cv.imshow(\"Canvas\", canvas)\n",
        "cv.waitKey(0)"
      ]
    },
    {
      "cell_type": "markdown",
      "metadata": {
        "id": "e_k4kpyLDSmi"
      },
      "source": [
        "# Image Processing"
      ]
    },
    {
      "cell_type": "code",
      "execution_count": null,
      "metadata": {
        "id": "6Aw3exNEDSmk",
        "outputId": "397a5c73-e83d-43c4-ac27-f4707dd3d302"
      },
      "outputs": [
        {
          "name": "stdout",
          "output_type": "stream",
          "text": [
            "480\n",
            "771\n"
          ]
        },
        {
          "data": {
            "text/plain": [
              "-1"
            ]
          },
          "execution_count": 9,
          "metadata": {},
          "output_type": "execute_result"
        }
      ],
      "source": [
        "# Image Translation\n",
        "#The first row of the matrix is [1, 0, tx], where tx is the number of pixels we will shift the image left or right. \n",
        "#Negative values of tx will shift the image to the left and positive values will shift the image to the right\n",
        "M = np.float32([[1, 0, 25], [0, 1, 50]])\n",
        "print(image.shape[0])\n",
        "print(image.shape[1])\n",
        "shifted = cv.warpAffine(image, M, (image.shape[1], image.shape[0]))\n",
        "cv.imshow(\"Shifted Down and Right\", shifted)\n",
        "cv.waitKey(0)"
      ]
    },
    {
      "cell_type": "code",
      "execution_count": null,
      "metadata": {
        "id": "cwDJh2WwDSml",
        "outputId": "0693037a-0f8b-47e1-87ed-74b38bfae8c7"
      },
      "outputs": [
        {
          "data": {
            "text/plain": [
              "-1"
            ]
          },
          "execution_count": 10,
          "metadata": {},
          "output_type": "execute_result"
        }
      ],
      "source": [
        "# Rotation\n",
        "cv.imshow(\"Original\", image)\n",
        "(h, w) = image.shape[:2]\n",
        "#h=image.shape[0]\n",
        "#w=image.shape[1]\n",
        "\n",
        "center = (w // 2, h // 2)\n",
        "M = cv.getRotationMatrix2D(center, 45, 1.0)\n",
        "rotated = cv.warpAffine(image, M, (w, h))\n",
        "cv.imshow(\"Rotated by 45 Degrees\", rotated)\n",
        "cv.waitKey(0)"
      ]
    },
    {
      "cell_type": "code",
      "execution_count": null,
      "metadata": {
        "id": "0I7hxb6wDSmm",
        "outputId": "ba2b20e1-5e55-4505-db14-64fc94f17afa"
      },
      "outputs": [
        {
          "name": "stdout",
          "output_type": "stream",
          "text": [
            "(480, 771, 3)\n",
            "(93, 150, 3)\n"
          ]
        },
        {
          "data": {
            "text/plain": [
              "-1"
            ]
          },
          "execution_count": 11,
          "metadata": {},
          "output_type": "execute_result"
        }
      ],
      "source": [
        "\n",
        "cv.imshow(\"Original\", image)\n",
        "print(image.shape)\n",
        "r = 150.0 / image.shape[1]\n",
        "dim = (150, int(image.shape[0] * r))\n",
        "resized = cv.resize(image, dim, interpolation = cv.INTER_AREA)\n",
        "print(resized.shape)\n",
        "cv.imshow(\"Resized (Width)\", resized)\n",
        "cv.waitKey(0)"
      ]
    },
    {
      "cell_type": "code",
      "execution_count": null,
      "metadata": {
        "id": "zESF48v_DSmm",
        "outputId": "2f70df38-86da-4268-b101-31869fd5b485"
      },
      "outputs": [
        {
          "data": {
            "text/plain": [
              "-1"
            ]
          },
          "execution_count": 12,
          "metadata": {},
          "output_type": "execute_result"
        }
      ],
      "source": [
        "\n",
        "cv.imshow(\"Original\", image)\n",
        "flipped = cv.flip(image, 0)\n",
        "cv.imshow(\"Flipped Horizontally\", flipped)\n",
        "cv.waitKey(0)"
      ]
    },
    {
      "cell_type": "markdown",
      "metadata": {
        "id": "KLd0VvpfDSmn"
      },
      "source": [
        ""
      ]
    },
    {
      "cell_type": "code",
      "execution_count": null,
      "metadata": {
        "id": "ILkXSD98DSmo"
      },
      "outputs": [],
      "source": [
        ""
      ]
    }
  ],
  "metadata": {
    "kernelspec": {
      "display_name": "Python 3 (ipykernel)",
      "language": "python",
      "name": "python3"
    },
    "language_info": {
      "codemirror_mode": {
        "name": "ipython",
        "version": 3
      },
      "file_extension": ".py",
      "mimetype": "text/x-python",
      "name": "python",
      "nbconvert_exporter": "python",
      "pygments_lexer": "ipython3",
      "version": "3.9.7"
    },
    "colab": {
      "name": "Assignment 10.ipynb",
      "provenance": []
    }
  },
  "nbformat": 4,
  "nbformat_minor": 0
}