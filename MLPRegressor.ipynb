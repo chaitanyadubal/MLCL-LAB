{
  "nbformat": 4,
  "nbformat_minor": 0,
  "metadata": {
    "colab": {
      "name": "MLPRegressor.ipynb",
      "provenance": [],
      "collapsed_sections": []
    },
    "kernelspec": {
      "name": "python3",
      "display_name": "Python 3"
    },
    "language_info": {
      "name": "python"
    },
    "accelerator": "GPU"
  },
  "cells": [
    {
      "cell_type": "code",
      "execution_count": null,
      "metadata": {
        "id": "_jOIeelhI2fF"
      },
      "outputs": [],
      "source": [
        "import pandas as pd\n",
        "import numpy as np\n",
        "import matplotlib.pyplot as plt\n",
        "import seaborn as sns"
      ]
    },
    {
      "cell_type": "code",
      "source": [
        "data = pd.read_csv(\"/content/MyDrive/Ml_LAB/housing.csv\")"
      ],
      "metadata": {
        "id": "qDVVk8OfI8i2"
      },
      "execution_count": null,
      "outputs": []
    },
    {
      "cell_type": "code",
      "source": [
        "data.head()"
      ],
      "metadata": {
        "colab": {
          "base_uri": "https://localhost:8080/",
          "height": 270
        },
        "id": "dXPzSdWBJJdL",
        "outputId": "9a0cc81d-9a98-4914-d513-5b186b0d630b"
      },
      "execution_count": null,
      "outputs": [
        {
          "output_type": "execute_result",
          "data": {
            "text/plain": [
              "   longitude  latitude  housing_median_age  total_rooms  total_bedrooms  \\\n",
              "0    -122.23     37.88                41.0        880.0           129.0   \n",
              "1    -122.22     37.86                21.0       7099.0          1106.0   \n",
              "2    -122.24     37.85                52.0       1467.0           190.0   \n",
              "3    -122.25     37.85                52.0       1274.0           235.0   \n",
              "4    -122.25     37.85                52.0       1627.0           280.0   \n",
              "\n",
              "   population  households  median_income  median_house_value ocean_proximity  \n",
              "0       322.0       126.0         8.3252            452600.0        NEAR BAY  \n",
              "1      2401.0      1138.0         8.3014            358500.0        NEAR BAY  \n",
              "2       496.0       177.0         7.2574            352100.0        NEAR BAY  \n",
              "3       558.0       219.0         5.6431            341300.0        NEAR BAY  \n",
              "4       565.0       259.0         3.8462            342200.0        NEAR BAY  "
            ],
            "text/html": [
              "\n",
              "  <div id=\"df-28735015-dfc6-458a-8a5d-04842f07079e\">\n",
              "    <div class=\"colab-df-container\">\n",
              "      <div>\n",
              "<style scoped>\n",
              "    .dataframe tbody tr th:only-of-type {\n",
              "        vertical-align: middle;\n",
              "    }\n",
              "\n",
              "    .dataframe tbody tr th {\n",
              "        vertical-align: top;\n",
              "    }\n",
              "\n",
              "    .dataframe thead th {\n",
              "        text-align: right;\n",
              "    }\n",
              "</style>\n",
              "<table border=\"1\" class=\"dataframe\">\n",
              "  <thead>\n",
              "    <tr style=\"text-align: right;\">\n",
              "      <th></th>\n",
              "      <th>longitude</th>\n",
              "      <th>latitude</th>\n",
              "      <th>housing_median_age</th>\n",
              "      <th>total_rooms</th>\n",
              "      <th>total_bedrooms</th>\n",
              "      <th>population</th>\n",
              "      <th>households</th>\n",
              "      <th>median_income</th>\n",
              "      <th>median_house_value</th>\n",
              "      <th>ocean_proximity</th>\n",
              "    </tr>\n",
              "  </thead>\n",
              "  <tbody>\n",
              "    <tr>\n",
              "      <th>0</th>\n",
              "      <td>-122.23</td>\n",
              "      <td>37.88</td>\n",
              "      <td>41.0</td>\n",
              "      <td>880.0</td>\n",
              "      <td>129.0</td>\n",
              "      <td>322.0</td>\n",
              "      <td>126.0</td>\n",
              "      <td>8.3252</td>\n",
              "      <td>452600.0</td>\n",
              "      <td>NEAR BAY</td>\n",
              "    </tr>\n",
              "    <tr>\n",
              "      <th>1</th>\n",
              "      <td>-122.22</td>\n",
              "      <td>37.86</td>\n",
              "      <td>21.0</td>\n",
              "      <td>7099.0</td>\n",
              "      <td>1106.0</td>\n",
              "      <td>2401.0</td>\n",
              "      <td>1138.0</td>\n",
              "      <td>8.3014</td>\n",
              "      <td>358500.0</td>\n",
              "      <td>NEAR BAY</td>\n",
              "    </tr>\n",
              "    <tr>\n",
              "      <th>2</th>\n",
              "      <td>-122.24</td>\n",
              "      <td>37.85</td>\n",
              "      <td>52.0</td>\n",
              "      <td>1467.0</td>\n",
              "      <td>190.0</td>\n",
              "      <td>496.0</td>\n",
              "      <td>177.0</td>\n",
              "      <td>7.2574</td>\n",
              "      <td>352100.0</td>\n",
              "      <td>NEAR BAY</td>\n",
              "    </tr>\n",
              "    <tr>\n",
              "      <th>3</th>\n",
              "      <td>-122.25</td>\n",
              "      <td>37.85</td>\n",
              "      <td>52.0</td>\n",
              "      <td>1274.0</td>\n",
              "      <td>235.0</td>\n",
              "      <td>558.0</td>\n",
              "      <td>219.0</td>\n",
              "      <td>5.6431</td>\n",
              "      <td>341300.0</td>\n",
              "      <td>NEAR BAY</td>\n",
              "    </tr>\n",
              "    <tr>\n",
              "      <th>4</th>\n",
              "      <td>-122.25</td>\n",
              "      <td>37.85</td>\n",
              "      <td>52.0</td>\n",
              "      <td>1627.0</td>\n",
              "      <td>280.0</td>\n",
              "      <td>565.0</td>\n",
              "      <td>259.0</td>\n",
              "      <td>3.8462</td>\n",
              "      <td>342200.0</td>\n",
              "      <td>NEAR BAY</td>\n",
              "    </tr>\n",
              "  </tbody>\n",
              "</table>\n",
              "</div>\n",
              "      <button class=\"colab-df-convert\" onclick=\"convertToInteractive('df-28735015-dfc6-458a-8a5d-04842f07079e')\"\n",
              "              title=\"Convert this dataframe to an interactive table.\"\n",
              "              style=\"display:none;\">\n",
              "        \n",
              "  <svg xmlns=\"http://www.w3.org/2000/svg\" height=\"24px\"viewBox=\"0 0 24 24\"\n",
              "       width=\"24px\">\n",
              "    <path d=\"M0 0h24v24H0V0z\" fill=\"none\"/>\n",
              "    <path d=\"M18.56 5.44l.94 2.06.94-2.06 2.06-.94-2.06-.94-.94-2.06-.94 2.06-2.06.94zm-11 1L8.5 8.5l.94-2.06 2.06-.94-2.06-.94L8.5 2.5l-.94 2.06-2.06.94zm10 10l.94 2.06.94-2.06 2.06-.94-2.06-.94-.94-2.06-.94 2.06-2.06.94z\"/><path d=\"M17.41 7.96l-1.37-1.37c-.4-.4-.92-.59-1.43-.59-.52 0-1.04.2-1.43.59L10.3 9.45l-7.72 7.72c-.78.78-.78 2.05 0 2.83L4 21.41c.39.39.9.59 1.41.59.51 0 1.02-.2 1.41-.59l7.78-7.78 2.81-2.81c.8-.78.8-2.07 0-2.86zM5.41 20L4 18.59l7.72-7.72 1.47 1.35L5.41 20z\"/>\n",
              "  </svg>\n",
              "      </button>\n",
              "      \n",
              "  <style>\n",
              "    .colab-df-container {\n",
              "      display:flex;\n",
              "      flex-wrap:wrap;\n",
              "      gap: 12px;\n",
              "    }\n",
              "\n",
              "    .colab-df-convert {\n",
              "      background-color: #E8F0FE;\n",
              "      border: none;\n",
              "      border-radius: 50%;\n",
              "      cursor: pointer;\n",
              "      display: none;\n",
              "      fill: #1967D2;\n",
              "      height: 32px;\n",
              "      padding: 0 0 0 0;\n",
              "      width: 32px;\n",
              "    }\n",
              "\n",
              "    .colab-df-convert:hover {\n",
              "      background-color: #E2EBFA;\n",
              "      box-shadow: 0px 1px 2px rgba(60, 64, 67, 0.3), 0px 1px 3px 1px rgba(60, 64, 67, 0.15);\n",
              "      fill: #174EA6;\n",
              "    }\n",
              "\n",
              "    [theme=dark] .colab-df-convert {\n",
              "      background-color: #3B4455;\n",
              "      fill: #D2E3FC;\n",
              "    }\n",
              "\n",
              "    [theme=dark] .colab-df-convert:hover {\n",
              "      background-color: #434B5C;\n",
              "      box-shadow: 0px 1px 3px 1px rgba(0, 0, 0, 0.15);\n",
              "      filter: drop-shadow(0px 1px 2px rgba(0, 0, 0, 0.3));\n",
              "      fill: #FFFFFF;\n",
              "    }\n",
              "  </style>\n",
              "\n",
              "      <script>\n",
              "        const buttonEl =\n",
              "          document.querySelector('#df-28735015-dfc6-458a-8a5d-04842f07079e button.colab-df-convert');\n",
              "        buttonEl.style.display =\n",
              "          google.colab.kernel.accessAllowed ? 'block' : 'none';\n",
              "\n",
              "        async function convertToInteractive(key) {\n",
              "          const element = document.querySelector('#df-28735015-dfc6-458a-8a5d-04842f07079e');\n",
              "          const dataTable =\n",
              "            await google.colab.kernel.invokeFunction('convertToInteractive',\n",
              "                                                     [key], {});\n",
              "          if (!dataTable) return;\n",
              "\n",
              "          const docLinkHtml = 'Like what you see? Visit the ' +\n",
              "            '<a target=\"_blank\" href=https://colab.research.google.com/notebooks/data_table.ipynb>data table notebook</a>'\n",
              "            + ' to learn more about interactive tables.';\n",
              "          element.innerHTML = '';\n",
              "          dataTable['output_type'] = 'display_data';\n",
              "          await google.colab.output.renderOutput(dataTable, element);\n",
              "          const docLink = document.createElement('div');\n",
              "          docLink.innerHTML = docLinkHtml;\n",
              "          element.appendChild(docLink);\n",
              "        }\n",
              "      </script>\n",
              "    </div>\n",
              "  </div>\n",
              "  "
            ]
          },
          "metadata": {},
          "execution_count": 3
        }
      ]
    },
    {
      "cell_type": "code",
      "source": [
        "data.isnull().sum()"
      ],
      "metadata": {
        "colab": {
          "base_uri": "https://localhost:8080/"
        },
        "id": "Ft_aNY4QI9YR",
        "outputId": "165bf416-d996-4e84-a76c-f31eaae6cac2"
      },
      "execution_count": null,
      "outputs": [
        {
          "output_type": "execute_result",
          "data": {
            "text/plain": [
              "longitude               0\n",
              "latitude                0\n",
              "housing_median_age      0\n",
              "total_rooms             0\n",
              "total_bedrooms        207\n",
              "population              0\n",
              "households              0\n",
              "median_income           0\n",
              "median_house_value      0\n",
              "ocean_proximity         0\n",
              "dtype: int64"
            ]
          },
          "metadata": {},
          "execution_count": 4
        }
      ]
    },
    {
      "cell_type": "code",
      "source": [
        "len(data.total_bedrooms.unique())"
      ],
      "metadata": {
        "colab": {
          "base_uri": "https://localhost:8080/"
        },
        "id": "EVcKsqC8L5bp",
        "outputId": "294b3376-610c-4d39-fddb-4b3ce77dfb8a"
      },
      "execution_count": null,
      "outputs": [
        {
          "output_type": "execute_result",
          "data": {
            "text/plain": [
              "1924"
            ]
          },
          "metadata": {},
          "execution_count": 5
        }
      ]
    },
    {
      "cell_type": "code",
      "source": [
        "data.ocean_proximity.unique()"
      ],
      "metadata": {
        "colab": {
          "base_uri": "https://localhost:8080/"
        },
        "id": "vCzhCuzbMUIJ",
        "outputId": "95243549-3b49-4374-bc69-f0dce00296a3"
      },
      "execution_count": null,
      "outputs": [
        {
          "output_type": "execute_result",
          "data": {
            "text/plain": [
              "array(['NEAR BAY', '<1H OCEAN', 'INLAND', 'NEAR OCEAN', 'ISLAND'],\n",
              "      dtype=object)"
            ]
          },
          "metadata": {},
          "execution_count": 6
        }
      ]
    },
    {
      "cell_type": "code",
      "source": [
        "sns.boxplot(data.total_bedrooms)"
      ],
      "metadata": {
        "colab": {
          "base_uri": "https://localhost:8080/",
          "height": 352
        },
        "id": "PK5sBB9BM1NG",
        "outputId": "47543711-9d30-449d-8134-03b65b9649ed"
      },
      "execution_count": null,
      "outputs": [
        {
          "output_type": "stream",
          "name": "stderr",
          "text": [
            "/usr/local/lib/python3.7/dist-packages/seaborn/_decorators.py:43: FutureWarning: Pass the following variable as a keyword arg: x. From version 0.12, the only valid positional argument will be `data`, and passing other arguments without an explicit keyword will result in an error or misinterpretation.\n",
            "  FutureWarning\n"
          ]
        },
        {
          "output_type": "execute_result",
          "data": {
            "text/plain": [
              "<matplotlib.axes._subplots.AxesSubplot at 0x7ffb556ed090>"
            ]
          },
          "metadata": {},
          "execution_count": 7
        },
        {
          "output_type": "display_data",
          "data": {
            "text/plain": [
              "<Figure size 432x288 with 1 Axes>"
            ],
            "image/png": "[encoded data removed]"
          },
          "metadata": {
            "needs_background": "light"
          }
        }
      ]
    },
    {
      "cell_type": "code",
      "source": [
        "data.total_bedrooms.fillna(value = data.total_bedrooms.median() , inplace = True)"
      ],
      "metadata": {
        "id": "-EF7rTMCM7sn"
      },
      "execution_count": null,
      "outputs": []
    },
    {
      "cell_type": "code",
      "source": [
        "data.isnull().sum()"
      ],
      "metadata": {
        "colab": {
          "base_uri": "https://localhost:8080/"
        },
        "id": "w2bnFUscNl-i",
        "outputId": "88633a4c-fd85-4cc4-fe4d-d73c5d738e98"
      },
      "execution_count": null,
      "outputs": [
        {
          "output_type": "execute_result",
          "data": {
            "text/plain": [
              "longitude             0\n",
              "latitude              0\n",
              "housing_median_age    0\n",
              "total_rooms           0\n",
              "total_bedrooms        0\n",
              "population            0\n",
              "households            0\n",
              "median_income         0\n",
              "median_house_value    0\n",
              "ocean_proximity       0\n",
              "dtype: int64"
            ]
          },
          "metadata": {},
          "execution_count": 9
        }
      ]
    },
    {
      "cell_type": "code",
      "source": [
        "from sklearn.preprocessing import LabelEncoder , StandardScaler"
      ],
      "metadata": {
        "id": "OdONdQCTNnPO"
      },
      "execution_count": null,
      "outputs": []
    },
    {
      "cell_type": "code",
      "source": [
        "label_encoder = LabelEncoder()\n",
        "data.ocean_proximity = label_encoder.fit_transform(data.ocean_proximity)"
      ],
      "metadata": {
        "id": "NKivJCqqNs6M"
      },
      "execution_count": null,
      "outputs": []
    },
    {
      "cell_type": "code",
      "source": [
        "data.head()"
      ],
      "metadata": {
        "colab": {
          "base_uri": "https://localhost:8080/",
          "height": 270
        },
        "id": "L9-j2-WbN5xr",
        "outputId": "a4dd7c59-461a-49e7-c00a-f6a8e8ba15ee"
      },
      "execution_count": null,
      "outputs": [
        {
          "output_type": "execute_result",
          "data": {
            "text/plain": [
              "   longitude  latitude  housing_median_age  total_rooms  total_bedrooms  \\\n",
              "0    -122.23     37.88                41.0        880.0           129.0   \n",
              "1    -122.22     37.86                21.0       7099.0          1106.0   \n",
              "2    -122.24     37.85                52.0       1467.0           190.0   \n",
              "3    -122.25     37.85                52.0       1274.0           235.0   \n",
              "4    -122.25     37.85                52.0       1627.0           280.0   \n",
              "\n",
              "   population  households  median_income  median_house_value  ocean_proximity  \n",
              "0       322.0       126.0         8.3252            452600.0                3  \n",
              "1      2401.0      1138.0         8.3014            358500.0                3  \n",
              "2       496.0       177.0         7.2574            352100.0                3  \n",
              "3       558.0       219.0         5.6431            341300.0                3  \n",
              "4       565.0       259.0         3.8462            342200.0                3  "
            ],
            "text/html": [
              "\n",
              "  <div id=\"df-68f7aeee-1bb0-4336-a71a-d33309e517bc\">\n",
              "    <div class=\"colab-df-container\">\n",
              "      <div>\n",
              "<style scoped>\n",
              "    .dataframe tbody tr th:only-of-type {\n",
              "        vertical-align: middle;\n",
              "    }\n",
              "\n",
              "    .dataframe tbody tr th {\n",
              "        vertical-align: top;\n",
              "    }\n",
              "\n",
              "    .dataframe thead th {\n",
              "        text-align: right;\n",
              "    }\n",
              "</style>\n",
              "<table border=\"1\" class=\"dataframe\">\n",
              "  <thead>\n",
              "    <tr style=\"text-align: right;\">\n",
              "      <th></th>\n",
              "      <th>longitude</th>\n",
              "      <th>latitude</th>\n",
              "      <th>housing_median_age</th>\n",
              "      <th>total_rooms</th>\n",
              "      <th>total_bedrooms</th>\n",
              "      <th>population</th>\n",
              "      <th>households</th>\n",
              "      <th>median_income</th>\n",
              "      <th>median_house_value</th>\n",
              "      <th>ocean_proximity</th>\n",
              "    </tr>\n",
              "  </thead>\n",
              "  <tbody>\n",
              "    <tr>\n",
              "      <th>0</th>\n",
              "      <td>-122.23</td>\n",
              "      <td>37.88</td>\n",
              "      <td>41.0</td>\n",
              "      <td>880.0</td>\n",
              "      <td>129.0</td>\n",
              "      <td>322.0</td>\n",
              "      <td>126.0</td>\n",
              "      <td>8.3252</td>\n",
              "      <td>452600.0</td>\n",
              "      <td>3</td>\n",
              "    </tr>\n",
              "    <tr>\n",
              "      <th>1</th>\n",
              "      <td>-122.22</td>\n",
              "      <td>37.86</td>\n",
              "      <td>21.0</td>\n",
              "      <td>7099.0</td>\n",
              "      <td>1106.0</td>\n",
              "      <td>2401.0</td>\n",
              "      <td>1138.0</td>\n",
              "      <td>8.3014</td>\n",
              "      <td>358500.0</td>\n",
              "      <td>3</td>\n",
              "    </tr>\n",
              "    <tr>\n",
              "      <th>2</th>\n",
              "      <td>-122.24</td>\n",
              "      <td>37.85</td>\n",
              "      <td>52.0</td>\n",
              "      <td>1467.0</td>\n",
              "      <td>190.0</td>\n",
              "      <td>496.0</td>\n",
              "      <td>177.0</td>\n",
              "      <td>7.2574</td>\n",
              "      <td>352100.0</td>\n",
              "      <td>3</td>\n",
              "    </tr>\n",
              "    <tr>\n",
              "      <th>3</th>\n",
              "      <td>-122.25</td>\n",
              "      <td>37.85</td>\n",
              "      <td>52.0</td>\n",
              "      <td>1274.0</td>\n",
              "      <td>235.0</td>\n",
              "      <td>558.0</td>\n",
              "      <td>219.0</td>\n",
              "      <td>5.6431</td>\n",
              "      <td>341300.0</td>\n",
              "      <td>3</td>\n",
              "    </tr>\n",
              "    <tr>\n",
              "      <th>4</th>\n",
              "      <td>-122.25</td>\n",
              "      <td>37.85</td>\n",
              "      <td>52.0</td>\n",
              "      <td>1627.0</td>\n",
              "      <td>280.0</td>\n",
              "      <td>565.0</td>\n",
              "      <td>259.0</td>\n",
              "      <td>3.8462</td>\n",
              "      <td>342200.0</td>\n",
              "      <td>3</td>\n",
              "    </tr>\n",
              "  </tbody>\n",
              "</table>\n",
              "</div>\n",
              "      <button class=\"colab-df-convert\" onclick=\"convertToInteractive('df-68f7aeee-1bb0-4336-a71a-d33309e517bc')\"\n",
              "              title=\"Convert this dataframe to an interactive table.\"\n",
              "              style=\"display:none;\">\n",
              "        \n",
              "  <svg xmlns=\"http://www.w3.org/2000/svg\" height=\"24px\"viewBox=\"0 0 24 24\"\n",
              "       width=\"24px\">\n",
              "    <path d=\"M0 0h24v24H0V0z\" fill=\"none\"/>\n",
              "    <path d=\"M18.56 5.44l.94 2.06.94-2.06 2.06-.94-2.06-.94-.94-2.06-.94 2.06-2.06.94zm-11 1L8.5 8.5l.94-2.06 2.06-.94-2.06-.94L8.5 2.5l-.94 2.06-2.06.94zm10 10l.94 2.06.94-2.06 2.06-.94-2.06-.94-.94-2.06-.94 2.06-2.06.94z\"/><path d=\"M17.41 7.96l-1.37-1.37c-.4-.4-.92-.59-1.43-.59-.52 0-1.04.2-1.43.59L10.3 9.45l-7.72 7.72c-.78.78-.78 2.05 0 2.83L4 21.41c.39.39.9.59 1.41.59.51 0 1.02-.2 1.41-.59l7.78-7.78 2.81-2.81c.8-.78.8-2.07 0-2.86zM5.41 20L4 18.59l7.72-7.72 1.47 1.35L5.41 20z\"/>\n",
              "  </svg>\n",
              "      </button>\n",
              "      \n",
              "  <style>\n",
              "    .colab-df-container {\n",
              "      display:flex;\n",
              "      flex-wrap:wrap;\n",
              "      gap: 12px;\n",
              "    }\n",
              "\n",
              "    .colab-df-convert {\n",
              "      background-color: #E8F0FE;\n",
              "      border: none;\n",
              "      border-radius: 50%;\n",
              "      cursor: pointer;\n",
              "      display: none;\n",
              "      fill: #1967D2;\n",
              "      height: 32px;\n",
              "      padding: 0 0 0 0;\n",
              "      width: 32px;\n",
              "    }\n",
              "\n",
              "    .colab-df-convert:hover {\n",
              "      background-color: #E2EBFA;\n",
              "      box-shadow: 0px 1px 2px rgba(60, 64, 67, 0.3), 0px 1px 3px 1px rgba(60, 64, 67, 0.15);\n",
              "      fill: #174EA6;\n",
              "    }\n",
              "\n",
              "    [theme=dark] .colab-df-convert {\n",
              "      background-color: #3B4455;\n",
              "      fill: #D2E3FC;\n",
              "    }\n",
              "\n",
              "    [theme=dark] .colab-df-convert:hover {\n",
              "      background-color: #434B5C;\n",
              "      box-shadow: 0px 1px 3px 1px rgba(0, 0, 0, 0.15);\n",
              "      filter: drop-shadow(0px 1px 2px rgba(0, 0, 0, 0.3));\n",
              "      fill: #FFFFFF;\n",
              "    }\n",
              "  </style>\n",
              "\n",
              "      <script>\n",
              "        const buttonEl =\n",
              "          document.querySelector('#df-68f7aeee-1bb0-4336-a71a-d33309e517bc button.colab-df-convert');\n",
              "        buttonEl.style.display =\n",
              "          google.colab.kernel.accessAllowed ? 'block' : 'none';\n",
              "\n",
              "        async function convertToInteractive(key) {\n",
              "          const element = document.querySelector('#df-68f7aeee-1bb0-4336-a71a-d33309e517bc');\n",
              "          const dataTable =\n",
              "            await google.colab.kernel.invokeFunction('convertToInteractive',\n",
              "                                                     [key], {});\n",
              "          if (!dataTable) return;\n",
              "\n",
              "          const docLinkHtml = 'Like what you see? Visit the ' +\n",
              "            '<a target=\"_blank\" href=https://colab.research.google.com/notebooks/data_table.ipynb>data table notebook</a>'\n",
              "            + ' to learn more about interactive tables.';\n",
              "          element.innerHTML = '';\n",
              "          dataTable['output_type'] = 'display_data';\n",
              "          await google.colab.output.renderOutput(dataTable, element);\n",
              "          const docLink = document.createElement('div');\n",
              "          docLink.innerHTML = docLinkHtml;\n",
              "          element.appendChild(docLink);\n",
              "        }\n",
              "      </script>\n",
              "    </div>\n",
              "  </div>\n",
              "  "
            ]
          },
          "metadata": {},
          "execution_count": 12
        }
      ]
    },
    {
      "cell_type": "code",
      "source": [
        "data.ocean_proximity.unique()"
      ],
      "metadata": {
        "colab": {
          "base_uri": "https://localhost:8080/"
        },
        "id": "uwvyb1OgOD7Z",
        "outputId": "436f62d9-97b9-426f-cf27-619350158e62"
      },
      "execution_count": null,
      "outputs": [
        {
          "output_type": "execute_result",
          "data": {
            "text/plain": [
              "array([3, 0, 1, 4, 2])"
            ]
          },
          "metadata": {},
          "execution_count": 13
        }
      ]
    },
    {
      "cell_type": "code",
      "source": [
        "X = data.drop(columns = [\"median_house_value\"])\n",
        "Y = data.median_house_value"
      ],
      "metadata": {
        "id": "0Jcc8Mk1OQwl"
      },
      "execution_count": null,
      "outputs": []
    },
    {
      "cell_type": "code",
      "source": [
        "scaler = StandardScaler()\n",
        "X = scaler.fit_transform(X)\n",
        "Y = scaler.fit_transform(Y.values.reshape(-1 , 1))"
      ],
      "metadata": {
        "id": "qTYvbSY-N6d9"
      },
      "execution_count": null,
      "outputs": []
    },
    {
      "cell_type": "code",
      "source": [
        "X.std(axis = 0)"
      ],
      "metadata": {
        "colab": {
          "base_uri": "https://localhost:8080/"
        },
        "id": "UGq3u9k6OdOc",
        "outputId": "92e15266-0777-46aa-a811-7250149b8e6a"
      },
      "execution_count": null,
      "outputs": [
        {
          "output_type": "execute_result",
          "data": {
            "text/plain": [
              "array([1., 1., 1., 1., 1., 1., 1., 1., 1.])"
            ]
          },
          "metadata": {},
          "execution_count": 35
        }
      ]
    },
    {
      "cell_type": "code",
      "source": [
        "Y.std(axis = 0)"
      ],
      "metadata": {
        "colab": {
          "base_uri": "https://localhost:8080/"
        },
        "id": "8-pNOnebUeYB",
        "outputId": "e0bb0b58-b94d-4153-842e-220a2d87aaf3"
      },
      "execution_count": null,
      "outputs": [
        {
          "output_type": "execute_result",
          "data": {
            "text/plain": [
              "array([1.])"
            ]
          },
          "metadata": {},
          "execution_count": 36
        }
      ]
    },
    {
      "cell_type": "code",
      "source": [
        "from sklearn.model_selection import train_test_split"
      ],
      "metadata": {
        "id": "R69_fVQ_OslG"
      },
      "execution_count": null,
      "outputs": []
    },
    {
      "cell_type": "code",
      "source": [
        "X_train , X_test , Y_train , Y_test = train_test_split(X , Y , random_state = 42)"
      ],
      "metadata": {
        "id": "xSCNR8RvPsm0"
      },
      "execution_count": null,
      "outputs": []
    },
    {
      "cell_type": "code",
      "source": [
        "X_train.shape"
      ],
      "metadata": {
        "colab": {
          "base_uri": "https://localhost:8080/"
        },
        "id": "UaH_gFESPy1G",
        "outputId": "ef821d63-3b85-47f1-8874-5f8b2b6ca0cc"
      },
      "execution_count": null,
      "outputs": [
        {
          "output_type": "execute_result",
          "data": {
            "text/plain": [
              "(15480, 9)"
            ]
          },
          "metadata": {},
          "execution_count": 39
        }
      ]
    },
    {
      "cell_type": "code",
      "source": [
        "from sklearn.neural_network import MLPRegressor"
      ],
      "metadata": {
        "id": "jKEU7kmYPz8d"
      },
      "execution_count": null,
      "outputs": []
    },
    {
      "cell_type": "code",
      "source": [
        "regressor = MLPRegressor(hidden_layer_sizes = (150 , 200 , 75) , max_iter = 1000 , verbose = True)"
      ],
      "metadata": {
        "id": "fgJ0S28HQhKg"
      },
      "execution_count": null,
      "outputs": []
    },
    {
      "cell_type": "code",
      "source": [
        "regressor.fit(X_train , Y_train)"
      ],
      "metadata": {
        "colab": {
          "base_uri": "https://localhost:8080/"
        },
        "id": "u9okOewnQzWy",
        "outputId": "5926b459-946d-4b07-bb67-de3b9b6c60db"
      },
      "execution_count": null,
      "outputs": [
        {
          "output_type": "stream",
          "name": "stderr",
          "text": [
            "/usr/local/lib/python3.7/dist-packages/sklearn/neural_network/_multilayer_perceptron.py:1599: DataConversionWarning: A column-vector y was passed when a 1d array was expected. Please change the shape of y to (n_samples, ), for example using ravel().\n",
            "  y = column_or_1d(y, warn=True)\n"
          ]
        },
        {
          "output_type": "stream",
          "name": "stdout",
          "text": [
            "Iteration 1, loss = 0.18238868\n",
            "Iteration 2, loss = 0.13594023\n",
            "Iteration 3, loss = 0.12654596\n",
            "Iteration 4, loss = 0.12020276\n",
            "Iteration 5, loss = 0.11679631\n",
            "Iteration 6, loss = 0.11281656\n",
            "Iteration 7, loss = 0.10997500\n",
            "Iteration 8, loss = 0.10913381\n",
            "Iteration 9, loss = 0.10872474\n",
            "Iteration 10, loss = 0.10587275\n",
            "Iteration 11, loss = 0.10572443\n",
            "Iteration 12, loss = 0.10221863\n",
            "Iteration 13, loss = 0.10061109\n",
            "Iteration 14, loss = 0.10009543\n",
            "Iteration 15, loss = 0.09922996\n",
            "Iteration 16, loss = 0.09886059\n",
            "Iteration 17, loss = 0.09771561\n",
            "Iteration 18, loss = 0.09741352\n",
            "Iteration 19, loss = 0.09588110\n",
            "Iteration 20, loss = 0.09462952\n",
            "Iteration 21, loss = 0.09251278\n",
            "Iteration 22, loss = 0.09370110\n",
            "Iteration 23, loss = 0.09157217\n",
            "Iteration 24, loss = 0.09192059\n",
            "Iteration 25, loss = 0.09334600\n",
            "Iteration 26, loss = 0.09013314\n",
            "Iteration 27, loss = 0.08906302\n",
            "Iteration 28, loss = 0.08809158\n",
            "Iteration 29, loss = 0.08896035\n",
            "Iteration 30, loss = 0.08903085\n",
            "Iteration 31, loss = 0.08764893\n",
            "Iteration 32, loss = 0.08567684\n",
            "Iteration 33, loss = 0.08685185\n",
            "Iteration 34, loss = 0.08856860\n",
            "Iteration 35, loss = 0.08490044\n",
            "Iteration 36, loss = 0.08410327\n",
            "Iteration 37, loss = 0.08381679\n",
            "Iteration 38, loss = 0.08364486\n",
            "Iteration 39, loss = 0.08241281\n",
            "Iteration 40, loss = 0.08179411\n",
            "Iteration 41, loss = 0.08358695\n",
            "Iteration 42, loss = 0.08040951\n",
            "Iteration 43, loss = 0.08153276\n",
            "Iteration 44, loss = 0.08057686\n",
            "Iteration 45, loss = 0.07972104\n",
            "Iteration 46, loss = 0.07949830\n",
            "Iteration 47, loss = 0.07881344\n",
            "Iteration 48, loss = 0.07697376\n",
            "Iteration 49, loss = 0.07908668\n",
            "Iteration 50, loss = 0.07528804\n",
            "Iteration 51, loss = 0.07608626\n",
            "Iteration 52, loss = 0.07587934\n",
            "Iteration 53, loss = 0.07584239\n",
            "Iteration 54, loss = 0.07440724\n",
            "Iteration 55, loss = 0.07652427\n",
            "Iteration 56, loss = 0.07474137\n",
            "Iteration 57, loss = 0.07400469\n",
            "Iteration 58, loss = 0.07240667\n",
            "Iteration 59, loss = 0.07548202\n",
            "Iteration 60, loss = 0.07240493\n",
            "Iteration 61, loss = 0.07286553\n",
            "Iteration 62, loss = 0.07224746\n",
            "Iteration 63, loss = 0.07194263\n",
            "Iteration 64, loss = 0.07132014\n",
            "Iteration 65, loss = 0.07229321\n",
            "Iteration 66, loss = 0.07100084\n",
            "Iteration 67, loss = 0.07116642\n",
            "Iteration 68, loss = 0.06931843\n",
            "Iteration 69, loss = 0.06973659\n",
            "Iteration 70, loss = 0.06861491\n",
            "Iteration 71, loss = 0.06863550\n",
            "Iteration 72, loss = 0.06898388\n",
            "Iteration 73, loss = 0.06761388\n",
            "Iteration 74, loss = 0.06689962\n",
            "Iteration 75, loss = 0.06692807\n",
            "Iteration 76, loss = 0.06732681\n",
            "Iteration 77, loss = 0.06752753\n",
            "Iteration 78, loss = 0.06642401\n",
            "Iteration 79, loss = 0.06606919\n",
            "Iteration 80, loss = 0.06584578\n",
            "Iteration 81, loss = 0.06505315\n",
            "Iteration 82, loss = 0.06401663\n",
            "Iteration 83, loss = 0.06443414\n",
            "Iteration 84, loss = 0.06290139\n",
            "Iteration 85, loss = 0.06408122\n",
            "Iteration 86, loss = 0.06311640\n",
            "Iteration 87, loss = 0.06330765\n",
            "Iteration 88, loss = 0.06312962\n",
            "Iteration 89, loss = 0.06329867\n",
            "Iteration 90, loss = 0.06194985\n",
            "Iteration 91, loss = 0.06300992\n",
            "Iteration 92, loss = 0.06377091\n",
            "Iteration 93, loss = 0.06114199\n",
            "Iteration 94, loss = 0.06147281\n",
            "Iteration 95, loss = 0.06080565\n",
            "Iteration 96, loss = 0.06137073\n",
            "Iteration 97, loss = 0.05912516\n",
            "Iteration 98, loss = 0.06056443\n",
            "Iteration 99, loss = 0.05939181\n",
            "Iteration 100, loss = 0.05813868\n",
            "Iteration 101, loss = 0.05947211\n",
            "Iteration 102, loss = 0.05869435\n",
            "Iteration 103, loss = 0.05711375\n",
            "Iteration 104, loss = 0.05699402\n",
            "Iteration 105, loss = 0.05884417\n",
            "Iteration 106, loss = 0.05904747\n",
            "Iteration 107, loss = 0.05685504\n",
            "Iteration 108, loss = 0.05680519\n",
            "Iteration 109, loss = 0.05758064\n",
            "Iteration 110, loss = 0.05669066\n",
            "Iteration 111, loss = 0.05649368\n",
            "Iteration 112, loss = 0.05574906\n",
            "Iteration 113, loss = 0.05670508\n",
            "Iteration 114, loss = 0.05533640\n",
            "Iteration 115, loss = 0.05416897\n",
            "Iteration 116, loss = 0.05494324\n",
            "Iteration 117, loss = 0.05330896\n",
            "Iteration 118, loss = 0.05318086\n",
            "Iteration 119, loss = 0.05281230\n",
            "Iteration 120, loss = 0.05258593\n",
            "Iteration 121, loss = 0.05290726\n",
            "Iteration 122, loss = 0.05218378\n",
            "Iteration 123, loss = 0.05209323\n",
            "Iteration 124, loss = 0.05315409\n",
            "Iteration 125, loss = 0.05379742\n",
            "Iteration 126, loss = 0.05313019\n",
            "Iteration 127, loss = 0.05030550\n",
            "Iteration 128, loss = 0.04947973\n",
            "Iteration 129, loss = 0.05217355\n",
            "Iteration 130, loss = 0.05108911\n",
            "Iteration 131, loss = 0.05036704\n",
            "Iteration 132, loss = 0.04970900\n",
            "Iteration 133, loss = 0.05015294\n",
            "Iteration 134, loss = 0.04934657\n",
            "Iteration 135, loss = 0.04800742\n",
            "Iteration 136, loss = 0.04981658\n",
            "Iteration 137, loss = 0.04937269\n",
            "Iteration 138, loss = 0.04781477\n",
            "Iteration 139, loss = 0.04808482\n",
            "Iteration 140, loss = 0.04816648\n",
            "Iteration 141, loss = 0.04781928\n",
            "Iteration 142, loss = 0.04756869\n",
            "Iteration 143, loss = 0.04637246\n",
            "Iteration 144, loss = 0.04796912\n",
            "Iteration 145, loss = 0.04823592\n",
            "Iteration 146, loss = 0.04707294\n",
            "Iteration 147, loss = 0.04699727\n",
            "Iteration 148, loss = 0.04655189\n",
            "Iteration 149, loss = 0.04802843\n",
            "Iteration 150, loss = 0.04622464\n",
            "Iteration 151, loss = 0.04578777\n",
            "Iteration 152, loss = 0.04505141\n",
            "Iteration 153, loss = 0.04436737\n",
            "Iteration 154, loss = 0.04429198\n",
            "Iteration 155, loss = 0.04437783\n",
            "Iteration 156, loss = 0.04371913\n",
            "Iteration 157, loss = 0.04414390\n",
            "Iteration 158, loss = 0.04421683\n",
            "Iteration 159, loss = 0.04270513\n",
            "Iteration 160, loss = 0.04314436\n",
            "Iteration 161, loss = 0.04409322\n",
            "Iteration 162, loss = 0.04423105\n",
            "Iteration 163, loss = 0.04354676\n",
            "Iteration 164, loss = 0.04207954\n",
            "Iteration 165, loss = 0.04188630\n",
            "Iteration 166, loss = 0.04312993\n",
            "Iteration 167, loss = 0.04154563\n",
            "Iteration 168, loss = 0.04171483\n",
            "Iteration 169, loss = 0.04087666\n",
            "Iteration 170, loss = 0.04219689\n",
            "Iteration 171, loss = 0.04190436\n",
            "Iteration 172, loss = 0.04185647\n",
            "Iteration 173, loss = 0.04067914\n",
            "Iteration 174, loss = 0.04037772\n",
            "Iteration 175, loss = 0.04068441\n",
            "Iteration 176, loss = 0.03927280\n",
            "Iteration 177, loss = 0.03989799\n",
            "Iteration 178, loss = 0.04010003\n",
            "Iteration 179, loss = 0.03912667\n",
            "Iteration 180, loss = 0.04068474\n",
            "Iteration 181, loss = 0.03799918\n",
            "Iteration 182, loss = 0.04113716\n",
            "Iteration 183, loss = 0.03901197\n",
            "Iteration 184, loss = 0.03891189\n",
            "Iteration 185, loss = 0.03931684\n",
            "Iteration 186, loss = 0.03975982\n",
            "Iteration 187, loss = 0.03818428\n",
            "Iteration 188, loss = 0.03747997\n",
            "Iteration 189, loss = 0.03928372\n",
            "Iteration 190, loss = 0.03732325\n",
            "Iteration 191, loss = 0.03809868\n",
            "Iteration 192, loss = 0.03749776\n",
            "Iteration 193, loss = 0.03632638\n",
            "Iteration 194, loss = 0.03872650\n",
            "Iteration 195, loss = 0.03673142\n",
            "Iteration 196, loss = 0.03765993\n",
            "Iteration 197, loss = 0.03575068\n",
            "Iteration 198, loss = 0.03676118\n",
            "Iteration 199, loss = 0.03722595\n",
            "Iteration 200, loss = 0.03626925\n",
            "Iteration 201, loss = 0.03580199\n",
            "Iteration 202, loss = 0.03456314\n",
            "Iteration 203, loss = 0.03629907\n",
            "Iteration 204, loss = 0.03546159\n",
            "Iteration 205, loss = 0.03414369\n",
            "Iteration 206, loss = 0.03443667\n",
            "Iteration 207, loss = 0.03424472\n",
            "Iteration 208, loss = 0.03466572\n",
            "Iteration 209, loss = 0.03403301\n",
            "Iteration 210, loss = 0.03569130\n",
            "Iteration 211, loss = 0.03528658\n",
            "Iteration 212, loss = 0.03333787\n",
            "Iteration 213, loss = 0.03361271\n",
            "Iteration 214, loss = 0.03396193\n",
            "Iteration 215, loss = 0.03376888\n",
            "Iteration 216, loss = 0.03488233\n",
            "Iteration 217, loss = 0.03470765\n",
            "Iteration 218, loss = 0.03354885\n",
            "Iteration 219, loss = 0.03369440\n",
            "Iteration 220, loss = 0.03229897\n",
            "Iteration 221, loss = 0.03369877\n",
            "Iteration 222, loss = 0.03335703\n",
            "Iteration 223, loss = 0.03231133\n",
            "Iteration 224, loss = 0.03141279\n",
            "Iteration 225, loss = 0.03258347\n",
            "Iteration 226, loss = 0.03165357\n",
            "Iteration 227, loss = 0.03125621\n",
            "Iteration 228, loss = 0.03139181\n",
            "Iteration 229, loss = 0.03113427\n",
            "Iteration 230, loss = 0.03389698\n",
            "Iteration 231, loss = 0.03275756\n",
            "Iteration 232, loss = 0.03182258\n",
            "Iteration 233, loss = 0.03243911\n",
            "Iteration 234, loss = 0.03203920\n",
            "Iteration 235, loss = 0.03125489\n",
            "Iteration 236, loss = 0.03202778\n",
            "Iteration 237, loss = 0.03223558\n",
            "Iteration 238, loss = 0.03067222\n",
            "Iteration 239, loss = 0.03094757\n",
            "Iteration 240, loss = 0.02957357\n",
            "Iteration 241, loss = 0.02987741\n",
            "Iteration 242, loss = 0.02986825\n",
            "Iteration 243, loss = 0.02892811\n",
            "Iteration 244, loss = 0.03099891\n",
            "Iteration 245, loss = 0.03044897\n",
            "Iteration 246, loss = 0.03036009\n",
            "Iteration 247, loss = 0.03019027\n",
            "Iteration 248, loss = 0.03056838\n",
            "Iteration 249, loss = 0.02915738\n",
            "Iteration 250, loss = 0.02972517\n",
            "Iteration 251, loss = 0.02995620\n",
            "Iteration 252, loss = 0.02889886\n",
            "Iteration 253, loss = 0.02946187\n",
            "Iteration 254, loss = 0.02785690\n",
            "Iteration 255, loss = 0.02818239\n",
            "Iteration 256, loss = 0.02958555\n",
            "Iteration 257, loss = 0.02817102\n",
            "Iteration 258, loss = 0.02813249\n",
            "Iteration 259, loss = 0.03366600\n",
            "Iteration 260, loss = 0.02938708\n",
            "Iteration 261, loss = 0.02781081\n",
            "Iteration 262, loss = 0.02724838\n",
            "Iteration 263, loss = 0.02749052\n",
            "Iteration 264, loss = 0.02756740\n",
            "Iteration 265, loss = 0.02663633\n",
            "Iteration 266, loss = 0.02769907\n",
            "Iteration 267, loss = 0.02842822\n",
            "Iteration 268, loss = 0.02734645\n",
            "Iteration 269, loss = 0.02727268\n",
            "Iteration 270, loss = 0.02763300\n",
            "Iteration 271, loss = 0.02666250\n",
            "Iteration 272, loss = 0.02662102\n",
            "Iteration 273, loss = 0.02646362\n",
            "Iteration 274, loss = 0.02730357\n",
            "Iteration 275, loss = 0.02643732\n",
            "Iteration 276, loss = 0.02588942\n",
            "Iteration 277, loss = 0.02639998\n",
            "Iteration 278, loss = 0.02705623\n",
            "Iteration 279, loss = 0.02729440\n",
            "Iteration 280, loss = 0.02809396\n",
            "Iteration 281, loss = 0.02704519\n",
            "Iteration 282, loss = 0.02626309\n",
            "Iteration 283, loss = 0.02492220\n",
            "Iteration 284, loss = 0.02490379\n",
            "Iteration 285, loss = 0.02537003\n",
            "Iteration 286, loss = 0.02536216\n",
            "Iteration 287, loss = 0.02500857\n",
            "Iteration 288, loss = 0.02510377\n",
            "Iteration 289, loss = 0.02504652\n",
            "Iteration 290, loss = 0.02489895\n",
            "Iteration 291, loss = 0.02711295\n",
            "Iteration 292, loss = 0.02550351\n",
            "Iteration 293, loss = 0.02550118\n",
            "Iteration 294, loss = 0.02423481\n",
            "Iteration 295, loss = 0.02569353\n",
            "Iteration 296, loss = 0.02510645\n",
            "Iteration 297, loss = 0.02469073\n",
            "Iteration 298, loss = 0.02525250\n",
            "Iteration 299, loss = 0.02407583\n",
            "Iteration 300, loss = 0.02531636\n",
            "Iteration 301, loss = 0.02503795\n",
            "Iteration 302, loss = 0.02439994\n",
            "Iteration 303, loss = 0.02352692\n",
            "Iteration 304, loss = 0.02487010\n",
            "Iteration 305, loss = 0.02493004\n",
            "Iteration 306, loss = 0.02375806\n",
            "Iteration 307, loss = 0.02414077\n",
            "Iteration 308, loss = 0.02426127\n",
            "Iteration 309, loss = 0.02407589\n",
            "Iteration 310, loss = 0.02372725\n",
            "Iteration 311, loss = 0.02355134\n",
            "Iteration 312, loss = 0.02453096\n",
            "Iteration 313, loss = 0.02303861\n",
            "Iteration 314, loss = 0.02261046\n",
            "Iteration 315, loss = 0.02457275\n",
            "Iteration 316, loss = 0.02284328\n",
            "Iteration 317, loss = 0.02233818\n",
            "Iteration 318, loss = 0.02336259\n",
            "Iteration 319, loss = 0.02220905\n",
            "Iteration 320, loss = 0.02330592\n",
            "Iteration 321, loss = 0.02271484\n",
            "Iteration 322, loss = 0.02211434\n",
            "Iteration 323, loss = 0.02188113\n",
            "Iteration 324, loss = 0.02186654\n",
            "Iteration 325, loss = 0.02325201\n",
            "Iteration 326, loss = 0.02400151\n",
            "Iteration 327, loss = 0.02308507\n",
            "Iteration 328, loss = 0.02119130\n",
            "Iteration 329, loss = 0.02133840\n",
            "Iteration 330, loss = 0.02167283\n",
            "Iteration 331, loss = 0.02294583\n",
            "Iteration 332, loss = 0.02151344\n",
            "Iteration 333, loss = 0.02297320\n",
            "Iteration 334, loss = 0.02370369\n",
            "Iteration 335, loss = 0.02089224\n",
            "Iteration 336, loss = 0.02282510\n",
            "Iteration 337, loss = 0.02140230\n",
            "Iteration 338, loss = 0.02168650\n",
            "Iteration 339, loss = 0.02047647\n",
            "Iteration 340, loss = 0.02130602\n",
            "Iteration 341, loss = 0.02151351\n",
            "Iteration 342, loss = 0.02109400\n",
            "Iteration 343, loss = 0.02109911\n",
            "Iteration 344, loss = 0.02172295\n",
            "Iteration 345, loss = 0.02137262\n",
            "Iteration 346, loss = 0.02202570\n",
            "Iteration 347, loss = 0.02138121\n",
            "Iteration 348, loss = 0.02023562\n",
            "Iteration 349, loss = 0.02046366\n",
            "Iteration 350, loss = 0.02098995\n",
            "Iteration 351, loss = 0.02058430\n",
            "Iteration 352, loss = 0.02031453\n",
            "Iteration 353, loss = 0.01964146\n",
            "Iteration 354, loss = 0.01965124\n",
            "Iteration 355, loss = 0.02136667\n",
            "Iteration 356, loss = 0.02024990\n",
            "Iteration 357, loss = 0.02133095\n",
            "Iteration 358, loss = 0.01956226\n",
            "Iteration 359, loss = 0.02053327\n",
            "Iteration 360, loss = 0.01995792\n",
            "Iteration 361, loss = 0.02050920\n",
            "Iteration 362, loss = 0.02059313\n",
            "Iteration 363, loss = 0.01923409\n",
            "Iteration 364, loss = 0.02033648\n",
            "Iteration 365, loss = 0.01980035\n",
            "Iteration 366, loss = 0.01885841\n",
            "Iteration 367, loss = 0.01979365\n",
            "Iteration 368, loss = 0.01942559\n",
            "Iteration 369, loss = 0.02017054\n",
            "Iteration 370, loss = 0.01970681\n",
            "Iteration 371, loss = 0.01944314\n",
            "Iteration 372, loss = 0.01932694\n",
            "Iteration 373, loss = 0.01946637\n",
            "Iteration 374, loss = 0.01867732\n",
            "Iteration 375, loss = 0.01866452\n",
            "Iteration 376, loss = 0.01957435\n",
            "Iteration 377, loss = 0.01961924\n",
            "Iteration 378, loss = 0.01963738\n",
            "Iteration 379, loss = 0.01975173\n",
            "Iteration 380, loss = 0.01874281\n",
            "Iteration 381, loss = 0.02022374\n",
            "Iteration 382, loss = 0.01858598\n",
            "Iteration 383, loss = 0.01828239\n",
            "Iteration 384, loss = 0.01841249\n",
            "Iteration 385, loss = 0.01861167\n",
            "Iteration 386, loss = 0.01802640\n",
            "Iteration 387, loss = 0.01910134\n",
            "Iteration 388, loss = 0.01835771\n",
            "Iteration 389, loss = 0.01879282\n",
            "Iteration 390, loss = 0.01750776\n",
            "Iteration 391, loss = 0.01742395\n",
            "Iteration 392, loss = 0.01903683\n",
            "Iteration 393, loss = 0.01882733\n",
            "Iteration 394, loss = 0.01873908\n",
            "Iteration 395, loss = 0.01808111\n",
            "Iteration 396, loss = 0.01941644\n",
            "Iteration 397, loss = 0.02032988\n",
            "Iteration 398, loss = 0.01825780\n",
            "Iteration 399, loss = 0.01749006\n",
            "Iteration 400, loss = 0.01768409\n",
            "Iteration 401, loss = 0.01915640\n",
            "Training loss did not improve more than tol=0.000100 for 10 consecutive epochs. Stopping.\n"
          ]
        },
        {
          "output_type": "execute_result",
          "data": {
            "text/plain": [
              "MLPRegressor(hidden_layer_sizes=(150, 200, 75), max_iter=1000, verbose=True)"
            ]
          },
          "metadata": {},
          "execution_count": 42
        }
      ]
    },
    {
      "cell_type": "markdown",
      "source": [
        ""
      ],
      "metadata": {
        "id": "Pyr3igdTR56_"
      }
    },
    {
      "cell_type": "code",
      "source": [
        "regressor.score(X_test , Y_test)"
      ],
      "metadata": {
        "colab": {
          "base_uri": "https://localhost:8080/"
        },
        "id": "bvJPUKqdQ8G4",
        "outputId": "df89e72f-e9bc-43a9-dbb2-a7265e380e31"
      },
      "execution_count": null,
      "outputs": [
        {
          "output_type": "execute_result",
          "data": {
            "text/plain": [
              "0.7324867743645843"
            ]
          },
          "metadata": {},
          "execution_count": 43
        }
      ]
    },
    {
      "cell_type": "code",
      "source": [
        "regressor.score(X_train , Y_train)"
      ],
      "metadata": {
        "colab": {
          "base_uri": "https://localhost:8080/"
        },
        "id": "DgRCjANvSNMK",
        "outputId": "c481df8f-2166-4d5b-af4f-1a3b0244d735"
      },
      "execution_count": null,
      "outputs": [
        {
          "output_type": "execute_result",
          "data": {
            "text/plain": [
              "0.9704703557513003"
            ]
          },
          "metadata": {},
          "execution_count": 44
        }
      ]
    },
    {
      "cell_type": "code",
      "source": [
        ""
      ],
      "metadata": {
        "id": "s7tZuDXSVpdD"
      },
      "execution_count": null,
      "outputs": []
    }
  ]
}